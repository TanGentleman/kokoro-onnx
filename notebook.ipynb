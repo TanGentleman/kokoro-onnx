{
 "cells": [
  {
   "cell_type": "code",
   "execution_count": 1,
   "metadata": {},
   "outputs": [],
   "source": [
    "import soundfile as sf\n",
    "from kokoro_onnx import Kokoro\n",
    "# from misaki import en, espeak\n",
    "from misaki.espeak import EspeakG2P\n",
    "try:\n",
    "    import sounddevice as sd\n",
    "except ImportError:\n",
    "    print(\"sounddevice not installed. Will not be able to play audio.\")\n",
    "    pass"
   ]
  },
  {
   "cell_type": "code",
   "execution_count": 4,
   "metadata": {},
   "outputs": [],
   "source": [
    "# Misaki G2P with espeak-ng fallback\n",
    "# fallback = espeak.EspeakFallback(british=False)\n",
    "g2p = EspeakG2P(language='hi')\n",
    "\n",
    "# Kokoro\n",
    "kokoro = Kokoro(\"kokoro-v1.0.onnx\", \"voices-v1.0.bin\")\n",
    "\n",
    "def get_samples(text, voice=\"hf_alpha\"):\n",
    "    phonemes = phonemes, _ = g2p(text)\n",
    "    samples, sample_rate = kokoro.create(phonemes, voice, is_phonemes=True)\n",
    "    return samples, sample_rate\n",
    "\n",
    "def generate_audio(text, voice=\"hf_alpha\", output_file=\"output.wav\"):\n",
    "    \"\"\"Generate and save audio from Hindi text.\"\"\"\n",
    "    samples, sample_rate = get_samples(text, voice)\n",
    "    sf.write(output_file, samples, sample_rate)\n",
    "    print(f\"Created {output_file}\")\n",
    "\n",
    "def play_audio(text, voice=\"hf_alpha\"):\n",
    "    samples, sample_rate = get_samples(text, voice)\n",
    "    try:\n",
    "        sd.play(samples, sample_rate)\n",
    "        sd.wait()  # Wait until audio is finished playing\n",
    "    except Exception as e:\n",
    "        raise Exception(f\"Audio playback failed: {str(e)}\")\n"
   ]
  },
  {
   "cell_type": "code",
   "execution_count": 5,
   "metadata": {},
   "outputs": [],
   "source": [
    "# Sample Hindi text about mental health awareness\n",
    "text = \"\"\"नमस्ते दोस्तों, \n",
    "\n",
    "आज मैं आपसे एक बहुत ही जरूरी और संवेदनशील मुद्दे पर बात करने आई हूँ - मानसिक स्वास्थ्य। हम सभी जानते हैं कि शारीरिक स्वास्थ्य कितना जरूरी है, लेकिन मानसिक स्वास्थ्य को अक्सर नजरअंदाज कर दिया जाता है। आज मैं आपसे यही कहना चाहती हूँ कि मानसिक स्वास्थ्य को भी उतना ही महत्व देना चाहिए जितना हम अपने शरीर को देते हैं। \n",
    "\n",
    "पूर्वी एशिया में, हमारी संस्कृति और परंपराओं में मानसिक स्वास्थ्य को लेकर कई गलतफहमियाँ हैं। हम अक्सर मानसिक स्वास्थ्य को शर्म की बात मानते हैं और इसके बारे में खुलकर बात नहीं करते। लेकिन यह समय है कि हम इस सोच को बदलें और मानसिक स्वास्थ्य के बारे में जागरूकता फैलाएं। \"\"\"\n",
    "\n",
    "# Generate audio from the text\n",
    "samples, sample_rate = get_samples(text, voice=\"hf_alpha\")\n",
    "\n",
    "# Play audio\n",
    "sd.play(samples, sample_rate)\n",
    "sd.wait()"
   ]
  },
  {
   "cell_type": "code",
   "execution_count": null,
   "metadata": {},
   "outputs": [],
   "source": []
  }
 ],
 "metadata": {
  "kernelspec": {
   "display_name": ".venv",
   "language": "python",
   "name": "python3"
  },
  "language_info": {
   "codemirror_mode": {
    "name": "ipython",
    "version": 3
   },
   "file_extension": ".py",
   "mimetype": "text/x-python",
   "name": "python",
   "nbconvert_exporter": "python",
   "pygments_lexer": "ipython3",
   "version": "3.12.9"
  }
 },
 "nbformat": 4,
 "nbformat_minor": 2
}
